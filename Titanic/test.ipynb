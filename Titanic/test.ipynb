{
 "cells": [
  {
   "cell_type": "code",
   "execution_count": 1,
   "metadata": {
    "collapsed": true
   },
   "outputs": [
    {
     "name": "stdout",
     "output_type": "stream",
     "text": [
      "<class 'pandas.core.frame.DataFrame'>\nRangeIndex: 891 entries, 0 to 890\nData columns (total 12 columns):\nPassengerId    891 non-null int64\nSurvived       891 non-null int64\nPclass         891 non-null int64\nName           891 non-null object\nSex            891 non-null object\nAge            714 non-null float64\nSibSp          891 non-null int64\nParch          891 non-null int64\nTicket         891 non-null object\nFare           891 non-null float64\nCabin          204 non-null object\nEmbarked       889 non-null object\ndtypes: float64(2), int64(5), object(5)\nmemory usage: 83.6+ KB\n"
     ]
    },
    {
     "data": {
      "text/plain": [
       "<Figure size 640x480 with 5 Axes>"
      ]
     },
     "execution_count": 0,
     "metadata": {},
     "output_type": "execute_result"
    },
    {
     "data": {
      "text/plain": [
       "<Figure size 640x480 with 1 Axes>"
      ]
     },
     "execution_count": 0,
     "metadata": {},
     "output_type": "execute_result"
    }
   ],
   "source": [
    "#encoding: utf-8\n",
    "\n",
    "#调用的库\n",
    "import numpy as np # science cal\n",
    "import pandas as pd # data ansys\n",
    "import matplotlib.pyplot as plt\n",
    "\n",
    "#import matplotlib as mpl\n",
    "#mpl.rcParams['font.sans-serif'] = ['SimHei']\n",
    "from pandas import Series,DataFrame\n",
    "\n",
    "#数据读取，训练集\n",
    "data_train = pd.read_csv(\"~/Documents/data/train.csv\")\n",
    "data_train\n",
    "\n",
    "data_train.info()\n",
    "\n",
    "#plot分析画图\n",
    "fig = plt.figure()\n",
    "fig.set(alpha=0.2)\n",
    "\n",
    "plt.subplot2grid((2,3),(0,0)) # 画成整张图\n",
    "data_train.Survived.value_counts().plot(kind='bar') # 柱状图\n",
    "plt.title(u\"存活分布 (1为存活)\") #标题\n",
    "plt.ylabel(u\"人数\") #  纵坐标名称\n",
    "\n",
    "plt.subplot2grid((2,3),(0,1))\n",
    "data_train.Pclass.value_counts().plot(kind='bar')\n",
    "plt.title(u\"舱位等级\")\n",
    "plt.ylabel(u\"人数\")\n",
    "\n",
    "plt.subplot2grid((2,3),(0,2))\n",
    "plt.scatter(data_train.Survived, data_train.Age)\n",
    "plt.ylabel(u\"年龄\")\n",
    "plt.grid(b=True, which='major', axis='y')\n",
    "plt.title(u\"按年龄存活分布\")\n",
    "\n",
    "plt.subplot2grid((2,3),(1,0),colspan=2)\n",
    "data_train.Age[data_train.Pclass == 1].plot(kind='kde')\n",
    "data_train.Age[data_train.Pclass == 2].plot(kind='kde')\n",
    "data_train.Age[data_train.Pclass == 3].plot(kind='kde')\n",
    "plt.xlabel(u\"年龄\")\n",
    "plt.ylabel(u\"密度\")\n",
    "plt.title(u\"各等级的乘客年龄分布\")\n",
    "plt.legend((u'头等舱',u'二等舱',u'三等舱'),loc='best')#set our legend for our gragh\n",
    "\n",
    "plt.subplot2grid((2,3),(1,2))\n",
    "data_train.Embarked.value_counts().plot(kind='bar')\n",
    "plt.title(u\"各口岸上船人数\")\n",
    "plt.ylabel(u\"人数\")\n",
    "\n",
    "#生还者性别分布\n",
    "data_train.groupby(['Sex','Survived'])['Survived'].count()\n",
    "data_train[['Sex','Survived']].groupby(['Sex']).mean().plot.bar()\n",
    "\n",
    "plt.show()\n",
    "\n",
    "\n"
   ]
  },
  {
   "cell_type": "markdown",
   "metadata": {},
   "source": [
    "#welldone\n"
   ]
  },
  {
   "cell_type": "code",
   "execution_count": null,
   "metadata": {},
   "outputs": [],
   "source": []
  }
 ],
 "metadata": {
  "kernelspec": {
   "display_name": "Python 2",
   "language": "python",
   "name": "python2"
  },
  "language_info": {
   "codemirror_mode": {
    "name": "ipython",
    "version": 2
   },
   "file_extension": ".py",
   "mimetype": "text/x-python",
   "name": "python",
   "nbconvert_exporter": "python",
   "pygments_lexer": "ipython2",
   "version": "2.7.6"
  }
 },
 "nbformat": 4,
 "nbformat_minor": 0
}
